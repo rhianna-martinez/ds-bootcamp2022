{
 "cells": [
  {
   "cell_type": "code",
   "execution_count": 12,
   "id": "8d63f427",
   "metadata": {},
   "outputs": [
    {
     "name": "stdout",
     "output_type": "stream",
     "text": [
      "Do you like to roll the dice? (yes or no) yes\n",
      "Rolling the dices...\n",
      "The values are....\n",
      "3\n",
      "3\n",
      "Roll the dices again? yes\n",
      "Rolling the dices...\n",
      "The values are....\n",
      "6\n",
      "6\n",
      "Roll the dices again? no\n",
      "---------------------------\n",
      "End of the simulator...Bye!\n"
     ]
    }
   ],
   "source": [
    "import random\n",
    "min1 = 1\n",
    "max2 = 6\n",
    "\n",
    "ask = input(\"Do you like to roll the dice? (yes or no) \")\n",
    "\n",
    "while ask == \"yes\":\n",
    "    print(\"Rolling the dices...\")\n",
    "    print(\"The values are....\")\n",
    "    print(random.randint(min1, max2))\n",
    "    print(random.randint(min1, max2))\n",
    "\n",
    "    ask = input(\"Roll the dices again? \")\n",
    "    \n",
    "\n",
    "print(\"---------------------------\")\n",
    "print(\"End of the simulator...Bye!\")"
   ]
  },
  {
   "cell_type": "code",
   "execution_count": null,
   "id": "ce3f4bc3",
   "metadata": {},
   "outputs": [],
   "source": []
  },
  {
   "cell_type": "code",
   "execution_count": null,
   "id": "ea895086",
   "metadata": {},
   "outputs": [],
   "source": []
  }
 ],
 "metadata": {
  "kernelspec": {
   "display_name": "Python 3 (ipykernel)",
   "language": "python",
   "name": "python3"
  },
  "language_info": {
   "codemirror_mode": {
    "name": "ipython",
    "version": 3
   },
   "file_extension": ".py",
   "mimetype": "text/x-python",
   "name": "python",
   "nbconvert_exporter": "python",
   "pygments_lexer": "ipython3",
   "version": "3.9.12"
  }
 },
 "nbformat": 4,
 "nbformat_minor": 5
}
