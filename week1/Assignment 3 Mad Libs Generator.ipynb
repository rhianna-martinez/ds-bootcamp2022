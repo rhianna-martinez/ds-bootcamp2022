{
 "cells": [
  {
   "cell_type": "code",
   "execution_count": 64,
   "id": "b3317654",
   "metadata": {},
   "outputs": [
    {
     "name": "stdout",
     "output_type": "stream",
     "text": [
      "Give a silly word. bark\n",
      "Give an amount of time.two weeks\n",
      "Name a holiday.christmas\n",
      "Give an adjective.nice\n",
      "Give a verb ending with -ing.walking\n",
      "Give a plural type of animal.geese\n",
      "Name a body part.hands\n",
      "Give a number.64\n",
      "Give me a verb.run\n",
      "Name an accessory/article of clothing.scarf\n",
      "Name a city.Manila\n",
      "Name a celebrity.Eminem\n",
      "Give me a song lyrics.\"I love you baby.\"\n",
      "Name a profession.Driver\n",
      "Give a type of event.funeral\n",
      "Give an adjective.sexy\n",
      "Give a type of food.cauliflower\n",
      "Give an exclamation expression!Bang!!!!!\n"
     ]
    }
   ],
   "source": [
    "# questions inspired by Jimmy Fallon and Dakota Johnson Mad lib theater\n",
    "silly_word = input(\"Give a silly word. \")\n",
    "amount_time = input(\"Give an amount of time.\")\n",
    "holiday = input(\"Name a holiday.\")\n",
    "adjective = input(\"Give an adjective.\")\n",
    "verb_ing = input(\"Give a verb ending with -ing.\")\n",
    "animal = input(\"Give a plural type of animal.\")\n",
    "body_singlular = input(\"Name a singular body part.\")\n",
    "number = input(\"Give a number.\")\n",
    "verb = input(\"Give me a verb.\")\n",
    "clothing = input(\"Name an accessory/article of clothing.\")\n",
    "city = input(\"Name a city.\")\n",
    "celebrity = input(\"Name a celebrity.\")\n",
    "song = input(\"Give me a song lyrics.\")\n",
    "profession = input(\"Name a profession.\")\n",
    "event = input(\"Give a type of event.\")\n",
    "adj2 = input(\"Give an adjective.\")\n",
    "food = input(\"Give a type of food.\")\n",
    "excla = input(\"Give an exclamation expression!\")"
   ]
  },
  {
   "cell_type": "code",
   "execution_count": 86,
   "id": "f5c1e6f1",
   "metadata": {},
   "outputs": [],
   "source": [
    "story_line = \"Actor 1: I am Mr. Christian Grey. \\n\" \\\n",
    "\"Actor 2: My name is Anastacia \" + silly_word +\".\\n\" \\\n",
    "\"Actor 1: Let's make this qick. I have \"+ amount_time +\".\\n\" \\\n",
    "\"Actor 2: This interview is for the special \"+ holiday + \" issue of the student news paper. You are very \" + adjective+ \" to have a mass of empire. To what do you owe your success?\\n\"\\\n",
    "\"Actor 1: By following the same routine every morning. Waking up, brushing my teeth and \" + verb_ing+ \" in the gym.\\n\"\\\n",
    "\"Actor 2: Your company is primarily involved in agricultural projects. Feeding the world's \"+animal+ \". With that kind of passion, I wonder if your \" +body+ \" might be bigger than you let on?\\n\"\\\n",
    "\"Actor 1: Some people say i dont have a \"+body+\" at all.\\n\"\\\n",
    "\"Actor 2: I did some research on you and it says that you are unmarried and adopted at the age of \" +number+ \".\\n\"\\\n",
    "\"Actor 1: You intrigued me Ms. \"+ silly_word+ \". When someone intrigues me, I \" +verb+ \" excessively.\\n\"\\\n",
    "\"Actor 2: My \"+clothing+\" is sweating.\\n\"\\\n",
    "\"Actor 1: What are your plans after you graduate?\\n\"\\\n",
    "\"Actor 2: I was planning to move in \" +city+ \" with \"+celebrity+\".\\n\"\\\n",
    "\"Actor 1: Part of having success is giving students like you my favorite piece of advice. \" +song+ \"\\n\"\\\n",
    "\"Actor 2: When I am around you, I feel like I am a \"+profession+ \" at the \"+event+\".\\n\"\\\n",
    "\"Actor 1: Hope you got everything you need.\\n\"\\\n",
    "\"Actor 2: I did. And whenever I have a great interview I do my favorite dance, it is called the \" +\"'\" +adj2+\" \"+food+\"'.\\n\"\\\n",
    "\"Actor 1: \" + excla"
   ]
  },
  {
   "cell_type": "code",
   "execution_count": 87,
   "id": "22d34211",
   "metadata": {},
   "outputs": [
    {
     "name": "stdout",
     "output_type": "stream",
     "text": [
      "Actor 1: I am Mr. Christian Grey. \n",
      "Actor 2: My name is Anastacia bark.\n",
      "Actor 1: Let's make this qick. I have two weeks.\n",
      "Actor 2: This interview is for the special christmas issue of the student news paper. You are very nice to have a mass of empire. To what do you owe your success?\n",
      "Actor 1: By following the same routine every morning. Waking up, brushing my teeth and walking in the gym.\n",
      "Actor 2: Your company is primarily involved in agricultural projects. Feeding the world's geese. With that kind of passion, I wonder if your hands might be bigger than you let on?\n",
      "Actor 1: Some people say i dont have a hands at all.\n",
      "Actor 2: I did some research on you and it says that you are unmarried and adopted at the age of 64.\n",
      "Actor 1: You intrigued me Ms. bark. When someone intrigues me, I run excessively.\n",
      "Actor 2: My scarf is sweating.\n",
      "Actor 1: What are your plans after you graduate?\n",
      "Actor 2: I was planning to move in Manila with Eminem.\n",
      "Actor 1: Part of having success is giving students like you my favorite piece of advice. \"I love you baby.\"\n",
      "Actor 2: When I am around you, I feel like I am a Driver at the funeral.\n",
      "Actor 1: Hope you got everything you need.\n",
      "Actor 2: I did. And whenever I have a great interview I do my favorite dance, it is called the 'sexy cauliflower'.\n",
      "Actor 1: Bang!!!!!\n"
     ]
    }
   ],
   "source": [
    "print(story_line)"
   ]
  },
  {
   "cell_type": "code",
   "execution_count": null,
   "id": "5bf65eaf",
   "metadata": {},
   "outputs": [],
   "source": []
  }
 ],
 "metadata": {
  "kernelspec": {
   "display_name": "Python 3 (ipykernel)",
   "language": "python",
   "name": "python3"
  },
  "language_info": {
   "codemirror_mode": {
    "name": "ipython",
    "version": 3
   },
   "file_extension": ".py",
   "mimetype": "text/x-python",
   "name": "python",
   "nbconvert_exporter": "python",
   "pygments_lexer": "ipython3",
   "version": "3.9.12"
  }
 },
 "nbformat": 4,
 "nbformat_minor": 5
}
