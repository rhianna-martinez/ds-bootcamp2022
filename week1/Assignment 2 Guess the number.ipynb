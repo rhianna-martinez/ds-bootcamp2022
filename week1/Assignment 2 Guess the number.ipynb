{
 "cells": [
  {
   "cell_type": "code",
   "execution_count": null,
   "id": "48ac7b81",
   "metadata": {},
   "outputs": [],
   "source": [
    "import random\n",
    "\n",
    "num = random.randint(1, 10)\n",
    "guess = None\n",
    "\n",
    "while guess != num:\n",
    "    guess = input(\"Guess a number between 1 and 10: \")\n",
    "    guess = int(guess)\n",
    "    \n",
    "    if guess == num:\n",
    "        print(\"congratulations! you won!\")\n",
    "        break\n",
    "    else:\n",
    "        if num > guess:\n",
    "            print(\"Nope, guess again. Your guess is too low.\")\n",
    "        elif num < guess:\n",
    "            print(\"Nope, guess again. Your guess is too high.\")"
   ]
  },
  {
   "cell_type": "code",
   "execution_count": null,
   "id": "a016826f",
   "metadata": {},
   "outputs": [],
   "source": []
  },
  {
   "cell_type": "code",
   "execution_count": null,
   "id": "f224dfa8",
   "metadata": {},
   "outputs": [],
   "source": []
  }
 ],
 "metadata": {
  "kernelspec": {
   "display_name": "Python 3 (ipykernel)",
   "language": "python",
   "name": "python3"
  },
  "language_info": {
   "codemirror_mode": {
    "name": "ipython",
    "version": 3
   },
   "file_extension": ".py",
   "mimetype": "text/x-python",
   "name": "python",
   "nbconvert_exporter": "python",
   "pygments_lexer": "ipython3",
   "version": "3.9.12"
  }
 },
 "nbformat": 4,
 "nbformat_minor": 5
}
